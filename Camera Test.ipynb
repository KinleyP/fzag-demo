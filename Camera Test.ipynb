{
 "cells": [
  {
   "cell_type": "code",
   "execution_count": null,
   "metadata": {},
   "outputs": [],
   "source": [
    "import numpy as np\n",
    "import cv2\n",
    "\n",
    "cap = cv2.VideoCapture(2)\n",
    "\n",
    "while(True):\n",
    "    # Capture frame-by-frame\n",
    "    ret, frame = cap.read()\n",
    "\n",
    "    # Our operations on the frame come here\n",
    "    gray = cv2.cvtColor(frame, cv2.COLOR_BGR2GRAY)\n",
    "\n",
    "    # Display the resulting frame\n",
    "    cv2.imshow('frame',gray)\n",
    "    if cv2.waitKey(1) & 0xFF == ord('q'):\n",
    "        break\n",
    "\n",
    "# When everything done, release the capture\n",
    "cap.release()\n",
    "cv2.destroyAllWindows()"
   ]
  },
  {
   "cell_type": "code",
   "execution_count": 10,
   "metadata": {},
   "outputs": [
    {
     "name": "stdout",
     "output_type": "stream",
     "text": [
      "Collecting msgpack\n",
      "  Downloading https://files.pythonhosted.org/packages/04/81/c6363198f24ec1c56e5c48ce685cb532e175125adade0cdb181c8c5fea6e/msgpack-0.5.6-cp36-cp36m-win_amd64.whl (85kB)\n",
      "Installing collected packages: msgpack\n",
      "Successfully installed msgpack-0.5.6\n",
      "Requirement already satisfied: opencv-python in c:\\users\\edzar\\anaconda3\\lib\\site-packages (3.4.1.15)\n",
      "Requirement already satisfied: numpy>=1.11.3 in c:\\users\\edzar\\anaconda3\\lib\\site-packages (from opencv-python) (1.14.3)\n"
     ]
    }
   ],
   "source": [
    "!pip install msgpack\n",
    "!pip install opencv-python"
   ]
  },
  {
   "cell_type": "code",
   "execution_count": 7,
   "metadata": {},
   "outputs": [
    {
     "name": "stdout",
     "output_type": "stream",
     "text": [
      "opencv-utils (0.0.2)                       - OpenCV Utilities\n",
      "ctypes-opencv (0.8.0)                      - ctypes-opencv - A Python wrapper for OpenCV using ctypes\n",
      "opencv-cython (0.4)                        - An alternative OpenCV wrapper\n",
      "opencv-python (3.4.1.15)                   - Wrapper package for OpenCV python bindings.\n",
      "simple-opencv-ocr (0.0)                    - A simple OCR with OpenCV\n",
      "opencv-python-armv7l (3.2.0)               - opencv-python on armv7l.\n",
      "thumbor-engine-opencv (1.0.0)              - OpenCV imaging engine for thumbor.\n",
      "opencv-contrib-python (3.4.1.15)           - Wrapper package for OpenCV python bindings.\n",
      "opencv-python-aarch64 (3.3.0.1)            - Wrapper package for OpenCV python bindings.\n",
      "opencv-python-headless (3.4.1.15)          - Wrapper package for OpenCV python bindings.\n",
      "opencv-contrib-python-headless (3.4.1.15)  - Wrapper package for OpenCV python bindings.\n",
      "opencv-rolling-ball (1.0)                  - Fully Ported to Python from ImageJ's Background Subtractor.Only works for 8-bit greyscale images currently. \n",
      "mosaicode-lib-c-opencv (1.0.0.dev1)        - Computer Music Programming Tool\n",
      "simretina (0.1.4)                          - Simulation of the Retina with OpenCV.\n",
      "opencv_helpers (1.1)                       - Helper functions for opencv\n",
      "vidstab (0.1.5)                            - Video Stabilization using OpenCV\n",
      "opencv_engine (1.0.1)                      - OpenCV imaging engine for thumbor.\n",
      "ImageSource (1.0b2)                        - Image sequence abstraction for OpenCV.\n",
      "cv-pubsubs (0.1)                           - Pubsub interface for Python OpenCV\n",
      "vec2img (0.1.0)                            - convert OpenCV samples file to images\n",
      "vext.OpenCV (0.5.20)                       - Use system OpenCV from a virtualenv\n",
      "rapideye (0.1.4)                           - An Image Search Toolkit based on OpenCV.\n",
      "ObjectExtractor (0.2.2)                    - Extract objects from images with OpenCV\n",
      "FaceExtractor (0.1.5)                      - Extract faces from images with OpenCV\n",
      "facerecog (0.0.1)                          - PyQt OpenCV Face Recognition Widget\n",
      "cv2wrap (1.0)                              - Wrapper for python opencv 2.4.12 32bit\n",
      "cv2-wrapper (0.1)                          - Wrapper for python opencv 2.4.12 32bit\n",
      "cvimage (0.1.1)                            - Chainable wrapper for OpenCV's python bindings.\n",
      "CVtypes (0.1)                              - Python OpenCV wrapper using ctypes\n",
      "cvx (0.1.3)                                - OpenCV 'extension' with routinely used methods\n",
      "TiffCapture (0.1.6)                        - Brings the power of OpenCV to TIFF videos; provides interface to multi-part TIFFs compatible with OpenCV's VideoCapture.\n",
      "remotecv (2.2.2)                           - remotecv is an OpenCV worker for facial and feature recognition\n",
      "hampy (1.4.1)                              - Simple Hamming Marker Detection using OpenCV\n",
      "helper_functions (2.0.11)                  - A simple module of simple function, for opencv and python3\n",
      "image-pyqt (0.0.2)                         - An Image Widget for display OpenCV Mat image\n",
      "images2video (0.3)                         - Python images to video library using OpenCV\n",
      "atx (1.2.0)                                - Automation test library for android based on opencv\n",
      "big-g (1.0.3)                              - OpenCV object tracking for Big G experiments\n",
      "Tippy (0.1)                                - another Toolbox for Image Processing in PYthon, based on OpenCV\n",
      "opencv_cffi (0.2.2)                        - A random subset of OpenCV's functionality, wrapped via CFFI\n",
      "opencvutils (0.9.3)                        - Simple OpenCV 3.x image processing functions\n",
      "head-pose (0.0.4)                          - Use opencv solvePnP to do head pose estimation\n",
      "nionswift-video-capture (0.1.0)            - Capture video from built-in camera using OpenCV.\n",
      "Willow (1.1)                               - A Python image library that sits on top of Pillow, Wand and OpenCV\n",
      "wxPyGameVideoPlayer (0.1.1.1)              - Just a simple video player using wxPython, PyGame, and OpenCV\n",
      "pyvision3 (0.1.3)                          - Facilitates computer vision research and prototyping using python and openCV\n",
      "image-mining (0.1.6)                       - Extract useful information from scanned images using OpenCV\n",
      "athentoimaging (0.1)                       - Image cleaning and OCR improvement package in Python using OpenCV.\n",
      "pyopencv (2.1.0.wr1.2.0)                   - PyOpenCV - A Python wrapper for OpenCV 2.x using Boost.Python and NumPy\n",
      "imagecrop (0.0.16)                         - Use OpenCV to extract image crops using homography and feature matching\n",
      "imgui-datascience (0.2.9)                  - A set of utilities for data science using python, imgui, numpy and opencv\n",
      "teacv (0.1.0)                              - teacv is a tool for extend Python OpenCV modules with custom filters written in C++.\n",
      "PySceneDetect (0.3.4)                      - A cross-platform, OpenCV-based video scene detection program and Python library.\n",
      "cvloop (0.3.5)                             - cvloop allows online video transformation and evaluation with OpenCV. Designed for jupyter notebooks.\n",
      "vse (0.1.5)                                - A visual search engine using local features descriptors and bag of words, based on OpenCV\n",
      "cvbuilder (0.2.11)                         - Package for building OpenCV 3.4.1 including Python 3 bindings from the official sources.\n",
      "partypi (0.1.4)                            - Party Pi is a computer vision emotion detection game with OpenCV and Microsoft Oxford Emotion API.\n",
      "cv_utils (0.2.0)                           - Computer Vision or OpenCV python utility functions. It also includes basic utilities for image processing and computer vision related tasks.\n",
      "morecvutils (0.9.2)                        - Computer Vision utilities, Cohen-Sutherland line clipping, OpenCV plot helpers for Optical Flow and Blob Analysis, AVI codec helpers\n",
      "imutils (0.4.6)                            - A series of convenience functions to make basic image processing functions such as translation, rotation, resizing, skeletonization, displaying Matplotlib images, sorting contours, detecting edges, and much more easier with OpenCV and both Python 2.7 and Python 3.\n"
     ]
    }
   ],
   "source": [
    "!pip search openCV"
   ]
  },
  {
   "cell_type": "code",
   "execution_count": null,
   "metadata": {},
   "outputs": [],
   "source": []
  }
 ],
 "metadata": {
  "kernelspec": {
   "display_name": "Python 3",
   "language": "python",
   "name": "python3"
  },
  "language_info": {
   "codemirror_mode": {
    "name": "ipython",
    "version": 3
   },
   "file_extension": ".py",
   "mimetype": "text/x-python",
   "name": "python",
   "nbconvert_exporter": "python",
   "pygments_lexer": "ipython3",
   "version": "3.6.5"
  }
 },
 "nbformat": 4,
 "nbformat_minor": 2
}
